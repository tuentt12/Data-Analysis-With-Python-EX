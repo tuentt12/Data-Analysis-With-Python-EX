{
  "nbformat": 4,
  "nbformat_minor": 0,
  "metadata": {
    "colab": {
      "name": "W5_D1_Time&GetDummies.ipynb",
      "provenance": [],
      "collapsed_sections": [],
      "include_colab_link": true
    },
    "kernelspec": {
      "name": "python3",
      "display_name": "Python 3"
    },
    "language_info": {
      "name": "python"
    }
  },
  "cells": [
    {
      "cell_type": "markdown",
      "metadata": {
        "id": "view-in-github",
        "colab_type": "text"
      },
      "source": [
        "<a href=\"https://colab.research.google.com/github/tuentt12/Data-Analysis-With-Python-EX/blob/main/W5_D1_Time%26GetDummies.ipynb\" target=\"_parent\"><img src=\"https://colab.research.google.com/assets/colab-badge.svg\" alt=\"Open In Colab\"/></a>"
      ]
    },
    {
      "cell_type": "code",
      "metadata": {
        "id": "pTUZPjLofeow"
      },
      "source": [
        "import pandas as pd"
      ],
      "execution_count": null,
      "outputs": []
    },
    {
      "cell_type": "markdown",
      "metadata": {
        "id": "-rEKUibGgEmz"
      },
      "source": [
        "# A. Time in Pandas"
      ]
    },
    {
      "cell_type": "markdown",
      "metadata": {
        "id": "20JDqE0gpPES"
      },
      "source": [
        "**Pandas** was developed in the context of financial modeling, so as you might expect, it contains a fairly extensive set of tools for working with dates, times, and time-indexed data. Date and time data comes in a few flavors, which we will discuss here:\n",
        "\n",
        "***Time stamps*** reference particular moments in time (e.g., July 4th, 2015 at 7:00am).\n",
        "\n",
        "![](https://miro.medium.com/max/1400/1*8uf_T4BqN0s5gbwWaPmXFg.png)\n",
        "\n",
        "***Time intervals*** and ***periods*** reference a length of time between a particular beginning and end point; for example, the year 2015. Periods usually reference a special case of time intervals in which each interval is **of uniform length and does not overlap** (e.g., 24 hour-long periods comprising days).\n",
        "\n",
        "![](https://miro.medium.com/max/1400/1*J1WOPRKuctCC_eAgQ-RwTw.png)\n",
        "\n",
        "***Time deltas*** or ***durations*** reference an exact length of time (e.g., a duration of 22.56 seconds).\n",
        "\n",
        "In this section, we will introduce how to work with each of these types of date/time data in Pandas. This short section is by no means a complete guide to the time series tools available in Python or Pandas, but instead is intended as a broad overview of how you as a user should approach working with time series. \n",
        "\n",
        "We will start with a brief discussion of tools for dealing with dates and times in Python, before moving more specifically to a discussion of the tools provided by Pandas. After listing some resources that go into more depth, we will review some short examples of working with time series data in Pandas."
      ]
    },
    {
      "cell_type": "markdown",
      "metadata": {
        "id": "tsAeHEFigUNR"
      },
      "source": [
        "## 1. Parse and Extract Time\n",
        "\n",
        "The group of following functions help convert the time in normal string format into Pandas time datatype.\n",
        "\n",
        "```python\n",
        "pd.to_datetime()\n",
        "pd.to_timedelta()\n",
        "```"
      ]
    },
    {
      "cell_type": "markdown",
      "metadata": {
        "id": "7OSq-NXNg8d7"
      },
      "source": [
        "**Example 1**: Convert the launched timestamps into Pandas datetime datatype"
      ]
    },
    {
      "cell_type": "code",
      "metadata": {
        "id": "fKW7zG4xhsBm"
      },
      "source": [
        "example = pd.DataFrame({'begin':['4th of July, 2015',\n",
        "                                 '2015-Jul-6', \n",
        "                                 '07-07-2015', \n",
        "                                 '20150708'],\n",
        "                        'end':['2015-11-02',\n",
        "                               '2015-11-03',\n",
        "                               '2015-12-08',\n",
        "                               '2016-03-20']})"
      ],
      "execution_count": null,
      "outputs": []
    },
    {
      "cell_type": "code",
      "metadata": {
        "colab": {
          "base_uri": "https://localhost:8080/",
          "height": 175
        },
        "id": "-E2pD8wwgWCZ",
        "outputId": "57a5946a-82b8-4302-b0e5-27489fda7390"
      },
      "source": [
        "example"
      ],
      "execution_count": null,
      "outputs": [
        {
          "output_type": "execute_result",
          "data": {
            "text/html": [
              "<div>\n",
              "<style scoped>\n",
              "    .dataframe tbody tr th:only-of-type {\n",
              "        vertical-align: middle;\n",
              "    }\n",
              "\n",
              "    .dataframe tbody tr th {\n",
              "        vertical-align: top;\n",
              "    }\n",
              "\n",
              "    .dataframe thead th {\n",
              "        text-align: right;\n",
              "    }\n",
              "</style>\n",
              "<table border=\"1\" class=\"dataframe\">\n",
              "  <thead>\n",
              "    <tr style=\"text-align: right;\">\n",
              "      <th></th>\n",
              "      <th>begin</th>\n",
              "      <th>end</th>\n",
              "    </tr>\n",
              "  </thead>\n",
              "  <tbody>\n",
              "    <tr>\n",
              "      <th>0</th>\n",
              "      <td>4th of July, 2015</td>\n",
              "      <td>2015-11-02</td>\n",
              "    </tr>\n",
              "    <tr>\n",
              "      <th>1</th>\n",
              "      <td>2015-Jul-6</td>\n",
              "      <td>2015-11-03</td>\n",
              "    </tr>\n",
              "    <tr>\n",
              "      <th>2</th>\n",
              "      <td>07-07-2015</td>\n",
              "      <td>2015-12-08</td>\n",
              "    </tr>\n",
              "    <tr>\n",
              "      <th>3</th>\n",
              "      <td>20150708</td>\n",
              "      <td>2016-03-20</td>\n",
              "    </tr>\n",
              "  </tbody>\n",
              "</table>\n",
              "</div>"
            ],
            "text/plain": [
              "               begin         end\n",
              "0  4th of July, 2015  2015-11-02\n",
              "1         2015-Jul-6  2015-11-03\n",
              "2         07-07-2015  2015-12-08\n",
              "3           20150708  2016-03-20"
            ]
          },
          "metadata": {
            "tags": []
          },
          "execution_count": 19
        }
      ]
    },
    {
      "cell_type": "code",
      "metadata": {
        "colab": {
          "base_uri": "https://localhost:8080/"
        },
        "id": "EhfYcOXcPg8W",
        "outputId": "faa3d680-e474-4920-9cbc-218d95f9dc87"
      },
      "source": [
        "example.info()"
      ],
      "execution_count": null,
      "outputs": [
        {
          "output_type": "stream",
          "text": [
            "<class 'pandas.core.frame.DataFrame'>\n",
            "RangeIndex: 4 entries, 0 to 3\n",
            "Data columns (total 2 columns):\n",
            " #   Column  Non-Null Count  Dtype \n",
            "---  ------  --------------  ----- \n",
            " 0   begin   4 non-null      object\n",
            " 1   end     4 non-null      object\n",
            "dtypes: object(2)\n",
            "memory usage: 192.0+ bytes\n"
          ],
          "name": "stdout"
        }
      ]
    },
    {
      "cell_type": "code",
      "metadata": {
        "colab": {
          "base_uri": "https://localhost:8080/"
        },
        "id": "jSnFUX9qhdke",
        "outputId": "6bc47377-b9af-441b-c621-6e4de7a0f0db"
      },
      "source": [
        "pd.to_datetime(example['begin'])"
      ],
      "execution_count": null,
      "outputs": [
        {
          "output_type": "execute_result",
          "data": {
            "text/plain": [
              "0   2015-07-04\n",
              "1   2015-07-06\n",
              "2   2015-07-07\n",
              "3   2015-07-08\n",
              "Name: begin, dtype: datetime64[ns]"
            ]
          },
          "metadata": {
            "tags": []
          },
          "execution_count": 21
        }
      ]
    },
    {
      "cell_type": "code",
      "metadata": {
        "id": "9rcQKe05ilhV"
      },
      "source": [
        "example['begin'] = pd.to_datetime(example['begin'])\n",
        "example['end'] = pd.to_datetime(example['end'])"
      ],
      "execution_count": null,
      "outputs": []
    },
    {
      "cell_type": "code",
      "metadata": {
        "colab": {
          "base_uri": "https://localhost:8080/",
          "height": 175
        },
        "id": "Kj62fSfP9EOd",
        "outputId": "521a9ce4-7703-4e21-d518-eaac2714d343"
      },
      "source": [
        "example"
      ],
      "execution_count": null,
      "outputs": [
        {
          "output_type": "execute_result",
          "data": {
            "text/html": [
              "<div>\n",
              "<style scoped>\n",
              "    .dataframe tbody tr th:only-of-type {\n",
              "        vertical-align: middle;\n",
              "    }\n",
              "\n",
              "    .dataframe tbody tr th {\n",
              "        vertical-align: top;\n",
              "    }\n",
              "\n",
              "    .dataframe thead th {\n",
              "        text-align: right;\n",
              "    }\n",
              "</style>\n",
              "<table border=\"1\" class=\"dataframe\">\n",
              "  <thead>\n",
              "    <tr style=\"text-align: right;\">\n",
              "      <th></th>\n",
              "      <th>begin</th>\n",
              "      <th>end</th>\n",
              "    </tr>\n",
              "  </thead>\n",
              "  <tbody>\n",
              "    <tr>\n",
              "      <th>0</th>\n",
              "      <td>2015-07-04</td>\n",
              "      <td>2015-11-02</td>\n",
              "    </tr>\n",
              "    <tr>\n",
              "      <th>1</th>\n",
              "      <td>2015-07-06</td>\n",
              "      <td>2015-11-03</td>\n",
              "    </tr>\n",
              "    <tr>\n",
              "      <th>2</th>\n",
              "      <td>2015-07-07</td>\n",
              "      <td>2015-12-08</td>\n",
              "    </tr>\n",
              "    <tr>\n",
              "      <th>3</th>\n",
              "      <td>2015-07-08</td>\n",
              "      <td>2016-03-20</td>\n",
              "    </tr>\n",
              "  </tbody>\n",
              "</table>\n",
              "</div>"
            ],
            "text/plain": [
              "       begin        end\n",
              "0 2015-07-04 2015-11-02\n",
              "1 2015-07-06 2015-11-03\n",
              "2 2015-07-07 2015-12-08\n",
              "3 2015-07-08 2016-03-20"
            ]
          },
          "metadata": {
            "tags": []
          },
          "execution_count": 23
        }
      ]
    },
    {
      "cell_type": "code",
      "metadata": {
        "colab": {
          "base_uri": "https://localhost:8080/"
        },
        "id": "H6e8HUcgP2D7",
        "outputId": "ffbe4829-3f64-4f95-83ec-0761b2c2c587"
      },
      "source": [
        "example.info()"
      ],
      "execution_count": null,
      "outputs": [
        {
          "output_type": "stream",
          "text": [
            "<class 'pandas.core.frame.DataFrame'>\n",
            "RangeIndex: 4 entries, 0 to 3\n",
            "Data columns (total 2 columns):\n",
            " #   Column  Non-Null Count  Dtype         \n",
            "---  ------  --------------  -----         \n",
            " 0   begin   4 non-null      datetime64[ns]\n",
            " 1   end     4 non-null      datetime64[ns]\n",
            "dtypes: datetime64[ns](2)\n",
            "memory usage: 192.0 bytes\n"
          ],
          "name": "stdout"
        }
      ]
    },
    {
      "cell_type": "markdown",
      "metadata": {
        "id": "VH7-0NoVhETl"
      },
      "source": [
        "After convert to the Pandas timestamp datatype, you can continue using the syntax to extract detail in a more specific level.\n",
        "\n",
        "On a ```datetime``` datatype column, you can simply call `<column_name>.dt.<time_unit>` to extract the value out.\n",
        "\n",
        "```python\n",
        "date_series.dt.year\n",
        "date_series.dt.month\n",
        "date_series.dt.day\n",
        "date_series.dt.hour\n",
        "date_series.dt.minute\n",
        "date_series.dt.second\n",
        "date_series.dt.week\n",
        "date_series.dt.weekday\n",
        "date_series.dt.quarter\n",
        "```\n",
        "\n",
        "In the case of weekday, it will return value from 0 to 6, which is corresponding to 'Mon' to 'Sun'"
      ]
    },
    {
      "cell_type": "code",
      "metadata": {
        "colab": {
          "base_uri": "https://localhost:8080/"
        },
        "id": "JE0YZsZhRMgW",
        "outputId": "a8bcc225-40e7-4c86-f960-74221c443bd1"
      },
      "source": [
        "example['begin']"
      ],
      "execution_count": null,
      "outputs": [
        {
          "output_type": "execute_result",
          "data": {
            "text/plain": [
              "0   2015-07-04\n",
              "1   2015-07-06\n",
              "2   2015-07-07\n",
              "3   2015-07-08\n",
              "Name: begin, dtype: datetime64[ns]"
            ]
          },
          "metadata": {
            "tags": []
          },
          "execution_count": 25
        }
      ]
    },
    {
      "cell_type": "code",
      "metadata": {
        "colab": {
          "base_uri": "https://localhost:8080/"
        },
        "id": "_xUQKHBVg7Au",
        "outputId": "d56a541f-3640-44dc-9f0d-1333488cb3c0"
      },
      "source": [
        "example['begin'].dt.day"
      ],
      "execution_count": null,
      "outputs": [
        {
          "output_type": "execute_result",
          "data": {
            "text/plain": [
              "0    4\n",
              "1    6\n",
              "2    7\n",
              "3    8\n",
              "Name: begin, dtype: int64"
            ]
          },
          "metadata": {
            "tags": []
          },
          "execution_count": 26
        }
      ]
    },
    {
      "cell_type": "code",
      "metadata": {
        "colab": {
          "base_uri": "https://localhost:8080/"
        },
        "id": "Rfprfmv29kAt",
        "outputId": "1e79ee0a-b9d9-49ee-d5aa-df57020ad053"
      },
      "source": [
        "example['begin'].dt.quarter"
      ],
      "execution_count": null,
      "outputs": [
        {
          "output_type": "execute_result",
          "data": {
            "text/plain": [
              "0    3\n",
              "1    3\n",
              "2    3\n",
              "3    3\n",
              "Name: begin, dtype: int64"
            ]
          },
          "metadata": {
            "tags": []
          },
          "execution_count": 27
        }
      ]
    },
    {
      "cell_type": "markdown",
      "metadata": {
        "id": "oqSkd4JgiBjh"
      },
      "source": [
        "## 2. Calculate time"
      ]
    },
    {
      "cell_type": "markdown",
      "metadata": {
        "id": "HkmQODnOiPVn"
      },
      "source": [
        "You can also perform calculation on the a Pandas datatime column. "
      ]
    },
    {
      "cell_type": "code",
      "metadata": {
        "colab": {
          "base_uri": "https://localhost:8080/",
          "height": 174
        },
        "id": "AKUTuJTy-NWf",
        "outputId": "7142718d-45f2-4cc5-bb04-46d56f8abee9"
      },
      "source": [
        "example"
      ],
      "execution_count": null,
      "outputs": [
        {
          "output_type": "execute_result",
          "data": {
            "text/html": [
              "<div>\n",
              "<style scoped>\n",
              "    .dataframe tbody tr th:only-of-type {\n",
              "        vertical-align: middle;\n",
              "    }\n",
              "\n",
              "    .dataframe tbody tr th {\n",
              "        vertical-align: top;\n",
              "    }\n",
              "\n",
              "    .dataframe thead th {\n",
              "        text-align: right;\n",
              "    }\n",
              "</style>\n",
              "<table border=\"1\" class=\"dataframe\">\n",
              "  <thead>\n",
              "    <tr style=\"text-align: right;\">\n",
              "      <th></th>\n",
              "      <th>begin</th>\n",
              "      <th>end</th>\n",
              "    </tr>\n",
              "  </thead>\n",
              "  <tbody>\n",
              "    <tr>\n",
              "      <th>0</th>\n",
              "      <td>2015-07-04</td>\n",
              "      <td>2015-11-02</td>\n",
              "    </tr>\n",
              "    <tr>\n",
              "      <th>1</th>\n",
              "      <td>2015-07-06</td>\n",
              "      <td>2015-11-03</td>\n",
              "    </tr>\n",
              "    <tr>\n",
              "      <th>2</th>\n",
              "      <td>2015-07-07</td>\n",
              "      <td>2015-12-08</td>\n",
              "    </tr>\n",
              "    <tr>\n",
              "      <th>3</th>\n",
              "      <td>2015-07-08</td>\n",
              "      <td>2016-03-20</td>\n",
              "    </tr>\n",
              "  </tbody>\n",
              "</table>\n",
              "</div>"
            ],
            "text/plain": [
              "       begin        end\n",
              "0 2015-07-04 2015-11-02\n",
              "1 2015-07-06 2015-11-03\n",
              "2 2015-07-07 2015-12-08\n",
              "3 2015-07-08 2016-03-20"
            ]
          },
          "metadata": {
            "tags": []
          },
          "execution_count": 28
        }
      ]
    },
    {
      "cell_type": "code",
      "metadata": {
        "colab": {
          "base_uri": "https://localhost:8080/"
        },
        "id": "BZ2_wR5siNpb",
        "outputId": "cc3e51d0-69c7-47fe-e0da-caea77970da3"
      },
      "source": [
        "# Calculate\n",
        "\n",
        "example['end'] - example['begin']"
      ],
      "execution_count": null,
      "outputs": [
        {
          "output_type": "execute_result",
          "data": {
            "text/plain": [
              "0   121 days\n",
              "1   120 days\n",
              "2   154 days\n",
              "3   256 days\n",
              "dtype: timedelta64[ns]"
            ]
          },
          "metadata": {
            "tags": []
          },
          "execution_count": 29
        }
      ]
    },
    {
      "cell_type": "markdown",
      "metadata": {
        "id": "9p7QQTGOilGH"
      },
      "source": [
        "🙋🏻‍♂️ **DISCUSSION**: What is the datatype of the output of the above code cell?\n",
        "\n",
        "A. TimeStamp\n",
        "\n",
        "B. TimePeriod\n",
        "\n",
        "C. TimeDelta\n",
        "\n",
        "D. Float"
      ]
    },
    {
      "cell_type": "markdown",
      "metadata": {
        "id": "tVPNUCwjjMpm"
      },
      "source": [
        "Similar to ```pd.to_datetime``` for timestamp, we can convert a number into timedelta datatype by calling ```pd.to_timedelta```. \n",
        "\n",
        "The syntax requires the value and the unit (Second, Minute, Hour, Day, etc)\n",
        "https://pandas.pydata.org/docs/reference/api/pandas.to_timedelta.html"
      ]
    },
    {
      "cell_type": "code",
      "metadata": {
        "colab": {
          "base_uri": "https://localhost:8080/"
        },
        "id": "C72fV5fcymOm",
        "outputId": "64886cf3-6177-4e36-c9b7-a92fc688ad26"
      },
      "source": [
        "pd.to_timedelta(30, 'D')"
      ],
      "execution_count": null,
      "outputs": [
        {
          "output_type": "execute_result",
          "data": {
            "text/plain": [
              "Timedelta('30 days 00:00:00')"
            ]
          },
          "metadata": {
            "tags": []
          },
          "execution_count": 30
        }
      ]
    },
    {
      "cell_type": "code",
      "metadata": {
        "colab": {
          "base_uri": "https://localhost:8080/"
        },
        "id": "OWWvx8Zpiiwb",
        "outputId": "4e2ad5e0-1761-4e3f-94dd-1697760c01bc"
      },
      "source": [
        "# Convert into month level\n",
        "(example['end'] - example['begin']) / pd.to_timedelta(30, 'D')"
      ],
      "execution_count": null,
      "outputs": [
        {
          "output_type": "execute_result",
          "data": {
            "text/plain": [
              "0    4.033333\n",
              "1    4.000000\n",
              "2    5.133333\n",
              "3    8.533333\n",
              "dtype: float64"
            ]
          },
          "metadata": {
            "tags": []
          },
          "execution_count": 31
        }
      ]
    },
    {
      "cell_type": "markdown",
      "metadata": {
        "id": "vXUtMm8VjnG_"
      },
      "source": [
        "For a deeper look into the DateTime datatype and some other common methods in Datetime, you can visit the notebook here: https://colab.research.google.com/drive/1slGIeCKXky0wvZEgFL9KDIrb2pvjCKCj?usp=sharing"
      ]
    },
    {
      "cell_type": "markdown",
      "metadata": {
        "id": "FTd2hUixjRzF"
      },
      "source": [
        "# B. Get Dummies"
      ]
    },
    {
      "cell_type": "markdown",
      "metadata": {
        "id": "km4EsuuAjZys"
      },
      "source": [
        "One Hot Encoding is one of the popular task in data analysis. This process helps us to \"numerize\" categorical for further analysis. One Hot Encoding will break one categorical column into multiple columns where the existence of the category is denoted by 1 and the absence is 0."
      ]
    },
    {
      "cell_type": "code",
      "metadata": {
        "colab": {
          "base_uri": "https://localhost:8080/",
          "height": 205
        },
        "id": "g_Ri_DEOjS-Q",
        "outputId": "3065f09f-35fe-40b7-8bdd-9f986c06bc42"
      },
      "source": [
        "schedule_df = pd.DataFrame({'Name': ['Nhan', 'Trang', 'Minh', 'Quan', 'Ai'],\n",
        "                     'Workday': ['Thu', 'Fri', 'Sat', 'Fri', 'Fri'],\n",
        "                     'Shift': ['Morning', 'Night', 'Night', 'Morning', 'Night']})\n",
        "schedule_df"
      ],
      "execution_count": null,
      "outputs": [
        {
          "output_type": "execute_result",
          "data": {
            "text/html": [
              "<div>\n",
              "<style scoped>\n",
              "    .dataframe tbody tr th:only-of-type {\n",
              "        vertical-align: middle;\n",
              "    }\n",
              "\n",
              "    .dataframe tbody tr th {\n",
              "        vertical-align: top;\n",
              "    }\n",
              "\n",
              "    .dataframe thead th {\n",
              "        text-align: right;\n",
              "    }\n",
              "</style>\n",
              "<table border=\"1\" class=\"dataframe\">\n",
              "  <thead>\n",
              "    <tr style=\"text-align: right;\">\n",
              "      <th></th>\n",
              "      <th>Name</th>\n",
              "      <th>Workday</th>\n",
              "      <th>Shift</th>\n",
              "    </tr>\n",
              "  </thead>\n",
              "  <tbody>\n",
              "    <tr>\n",
              "      <th>0</th>\n",
              "      <td>Nhan</td>\n",
              "      <td>Thu</td>\n",
              "      <td>Morning</td>\n",
              "    </tr>\n",
              "    <tr>\n",
              "      <th>1</th>\n",
              "      <td>Trang</td>\n",
              "      <td>Fri</td>\n",
              "      <td>Night</td>\n",
              "    </tr>\n",
              "    <tr>\n",
              "      <th>2</th>\n",
              "      <td>Minh</td>\n",
              "      <td>Sat</td>\n",
              "      <td>Night</td>\n",
              "    </tr>\n",
              "    <tr>\n",
              "      <th>3</th>\n",
              "      <td>Quan</td>\n",
              "      <td>Fri</td>\n",
              "      <td>Morning</td>\n",
              "    </tr>\n",
              "    <tr>\n",
              "      <th>4</th>\n",
              "      <td>Ai</td>\n",
              "      <td>Fri</td>\n",
              "      <td>Night</td>\n",
              "    </tr>\n",
              "  </tbody>\n",
              "</table>\n",
              "</div>"
            ],
            "text/plain": [
              "    Name Workday    Shift\n",
              "0   Nhan     Thu  Morning\n",
              "1  Trang     Fri    Night\n",
              "2   Minh     Sat    Night\n",
              "3   Quan     Fri  Morning\n",
              "4     Ai     Fri    Night"
            ]
          },
          "metadata": {
            "tags": []
          },
          "execution_count": 32
        }
      ]
    },
    {
      "cell_type": "code",
      "metadata": {
        "id": "pQFt7RYHktPt",
        "colab": {
          "base_uri": "https://localhost:8080/",
          "height": 205
        },
        "outputId": "e722ce27-b1a2-44a1-b8b9-fa8d0f207813"
      },
      "source": [
        "dummies = pd.get_dummies(schedule_df[['Workday', 'Shift']])\n",
        "dummies"
      ],
      "execution_count": null,
      "outputs": [
        {
          "output_type": "execute_result",
          "data": {
            "text/html": [
              "<div>\n",
              "<style scoped>\n",
              "    .dataframe tbody tr th:only-of-type {\n",
              "        vertical-align: middle;\n",
              "    }\n",
              "\n",
              "    .dataframe tbody tr th {\n",
              "        vertical-align: top;\n",
              "    }\n",
              "\n",
              "    .dataframe thead th {\n",
              "        text-align: right;\n",
              "    }\n",
              "</style>\n",
              "<table border=\"1\" class=\"dataframe\">\n",
              "  <thead>\n",
              "    <tr style=\"text-align: right;\">\n",
              "      <th></th>\n",
              "      <th>Workday_Fri</th>\n",
              "      <th>Workday_Sat</th>\n",
              "      <th>Workday_Thu</th>\n",
              "      <th>Shift_Morning</th>\n",
              "      <th>Shift_Night</th>\n",
              "    </tr>\n",
              "  </thead>\n",
              "  <tbody>\n",
              "    <tr>\n",
              "      <th>0</th>\n",
              "      <td>0</td>\n",
              "      <td>0</td>\n",
              "      <td>1</td>\n",
              "      <td>1</td>\n",
              "      <td>0</td>\n",
              "    </tr>\n",
              "    <tr>\n",
              "      <th>1</th>\n",
              "      <td>1</td>\n",
              "      <td>0</td>\n",
              "      <td>0</td>\n",
              "      <td>0</td>\n",
              "      <td>1</td>\n",
              "    </tr>\n",
              "    <tr>\n",
              "      <th>2</th>\n",
              "      <td>0</td>\n",
              "      <td>1</td>\n",
              "      <td>0</td>\n",
              "      <td>0</td>\n",
              "      <td>1</td>\n",
              "    </tr>\n",
              "    <tr>\n",
              "      <th>3</th>\n",
              "      <td>1</td>\n",
              "      <td>0</td>\n",
              "      <td>0</td>\n",
              "      <td>1</td>\n",
              "      <td>0</td>\n",
              "    </tr>\n",
              "    <tr>\n",
              "      <th>4</th>\n",
              "      <td>1</td>\n",
              "      <td>0</td>\n",
              "      <td>0</td>\n",
              "      <td>0</td>\n",
              "      <td>1</td>\n",
              "    </tr>\n",
              "  </tbody>\n",
              "</table>\n",
              "</div>"
            ],
            "text/plain": [
              "   Workday_Fri  Workday_Sat  Workday_Thu  Shift_Morning  Shift_Night\n",
              "0            0            0            1              1            0\n",
              "1            1            0            0              0            1\n",
              "2            0            1            0              0            1\n",
              "3            1            0            0              1            0\n",
              "4            1            0            0              0            1"
            ]
          },
          "metadata": {
            "tags": []
          },
          "execution_count": 33
        }
      ]
    },
    {
      "cell_type": "code",
      "metadata": {
        "colab": {
          "base_uri": "https://localhost:8080/",
          "height": 205
        },
        "id": "lxBkVeTUzQ2a",
        "outputId": "ddf8f684-c387-4376-eeec-8f08cb6128da"
      },
      "source": [
        "dummies = pd.get_dummies(schedule_df[['Workday']])\n",
        "dummies"
      ],
      "execution_count": null,
      "outputs": [
        {
          "output_type": "execute_result",
          "data": {
            "text/html": [
              "<div>\n",
              "<style scoped>\n",
              "    .dataframe tbody tr th:only-of-type {\n",
              "        vertical-align: middle;\n",
              "    }\n",
              "\n",
              "    .dataframe tbody tr th {\n",
              "        vertical-align: top;\n",
              "    }\n",
              "\n",
              "    .dataframe thead th {\n",
              "        text-align: right;\n",
              "    }\n",
              "</style>\n",
              "<table border=\"1\" class=\"dataframe\">\n",
              "  <thead>\n",
              "    <tr style=\"text-align: right;\">\n",
              "      <th></th>\n",
              "      <th>Workday_Fri</th>\n",
              "      <th>Workday_Sat</th>\n",
              "      <th>Workday_Thu</th>\n",
              "    </tr>\n",
              "  </thead>\n",
              "  <tbody>\n",
              "    <tr>\n",
              "      <th>0</th>\n",
              "      <td>0</td>\n",
              "      <td>0</td>\n",
              "      <td>1</td>\n",
              "    </tr>\n",
              "    <tr>\n",
              "      <th>1</th>\n",
              "      <td>1</td>\n",
              "      <td>0</td>\n",
              "      <td>0</td>\n",
              "    </tr>\n",
              "    <tr>\n",
              "      <th>2</th>\n",
              "      <td>0</td>\n",
              "      <td>1</td>\n",
              "      <td>0</td>\n",
              "    </tr>\n",
              "    <tr>\n",
              "      <th>3</th>\n",
              "      <td>1</td>\n",
              "      <td>0</td>\n",
              "      <td>0</td>\n",
              "    </tr>\n",
              "    <tr>\n",
              "      <th>4</th>\n",
              "      <td>1</td>\n",
              "      <td>0</td>\n",
              "      <td>0</td>\n",
              "    </tr>\n",
              "  </tbody>\n",
              "</table>\n",
              "</div>"
            ],
            "text/plain": [
              "   Workday_Fri  Workday_Sat  Workday_Thu\n",
              "0            0            0            1\n",
              "1            1            0            0\n",
              "2            0            1            0\n",
              "3            1            0            0\n",
              "4            1            0            0"
            ]
          },
          "metadata": {
            "tags": []
          },
          "execution_count": 34
        }
      ]
    },
    {
      "cell_type": "markdown",
      "metadata": {
        "id": "gLvu85Aiy4-f"
      },
      "source": [
        "**How to join it back to the original table?**"
      ]
    },
    {
      "cell_type": "code",
      "metadata": {
        "colab": {
          "base_uri": "https://localhost:8080/",
          "height": 205
        },
        "id": "ZJGYGaN-AZpg",
        "outputId": "213de190-6a4c-44e2-b5b3-bb70ad55f585"
      },
      "source": [
        "schedule_df"
      ],
      "execution_count": null,
      "outputs": [
        {
          "output_type": "execute_result",
          "data": {
            "text/html": [
              "<div>\n",
              "<style scoped>\n",
              "    .dataframe tbody tr th:only-of-type {\n",
              "        vertical-align: middle;\n",
              "    }\n",
              "\n",
              "    .dataframe tbody tr th {\n",
              "        vertical-align: top;\n",
              "    }\n",
              "\n",
              "    .dataframe thead th {\n",
              "        text-align: right;\n",
              "    }\n",
              "</style>\n",
              "<table border=\"1\" class=\"dataframe\">\n",
              "  <thead>\n",
              "    <tr style=\"text-align: right;\">\n",
              "      <th></th>\n",
              "      <th>Name</th>\n",
              "      <th>Workday</th>\n",
              "      <th>Shift</th>\n",
              "    </tr>\n",
              "  </thead>\n",
              "  <tbody>\n",
              "    <tr>\n",
              "      <th>0</th>\n",
              "      <td>Nhan</td>\n",
              "      <td>Thu</td>\n",
              "      <td>Morning</td>\n",
              "    </tr>\n",
              "    <tr>\n",
              "      <th>1</th>\n",
              "      <td>Trang</td>\n",
              "      <td>Fri</td>\n",
              "      <td>Night</td>\n",
              "    </tr>\n",
              "    <tr>\n",
              "      <th>2</th>\n",
              "      <td>Minh</td>\n",
              "      <td>Sat</td>\n",
              "      <td>Night</td>\n",
              "    </tr>\n",
              "    <tr>\n",
              "      <th>3</th>\n",
              "      <td>Quan</td>\n",
              "      <td>Fri</td>\n",
              "      <td>Morning</td>\n",
              "    </tr>\n",
              "    <tr>\n",
              "      <th>4</th>\n",
              "      <td>Ai</td>\n",
              "      <td>Fri</td>\n",
              "      <td>Night</td>\n",
              "    </tr>\n",
              "  </tbody>\n",
              "</table>\n",
              "</div>"
            ],
            "text/plain": [
              "    Name Workday    Shift\n",
              "0   Nhan     Thu  Morning\n",
              "1  Trang     Fri    Night\n",
              "2   Minh     Sat    Night\n",
              "3   Quan     Fri  Morning\n",
              "4     Ai     Fri    Night"
            ]
          },
          "metadata": {
            "tags": []
          },
          "execution_count": 35
        }
      ]
    },
    {
      "cell_type": "code",
      "metadata": {
        "colab": {
          "base_uri": "https://localhost:8080/"
        },
        "id": "WaFPK-veAa9g",
        "outputId": "36ceed8f-d718-471c-dc3e-45e88f31e2ac"
      },
      "source": [
        "dummies"
      ],
      "execution_count": null,
      "outputs": [
        {
          "output_type": "execute_result",
          "data": {
            "text/plain": [
              "0    0\n",
              "1    0\n",
              "2    1\n",
              "3    0\n",
              "4    0\n",
              "Name: Workday_Sat, dtype: uint8"
            ]
          },
          "metadata": {
            "tags": []
          },
          "execution_count": 42
        }
      ]
    },
    {
      "cell_type": "code",
      "metadata": {
        "id": "TPwpeRBwl48w"
      },
      "source": [
        "# The whole dummies table - concatenate\n",
        "concat_df = pd.concat([schedule_df, dummies], axis=1)"
      ],
      "execution_count": null,
      "outputs": []
    },
    {
      "cell_type": "code",
      "metadata": {
        "colab": {
          "base_uri": "https://localhost:8080/",
          "height": 205
        },
        "id": "DOA9rlqZAoPH",
        "outputId": "6e0c84a9-a3c3-4897-943d-072874a35025"
      },
      "source": [
        "concat_df"
      ],
      "execution_count": null,
      "outputs": [
        {
          "output_type": "execute_result",
          "data": {
            "text/html": [
              "<div>\n",
              "<style scoped>\n",
              "    .dataframe tbody tr th:only-of-type {\n",
              "        vertical-align: middle;\n",
              "    }\n",
              "\n",
              "    .dataframe tbody tr th {\n",
              "        vertical-align: top;\n",
              "    }\n",
              "\n",
              "    .dataframe thead th {\n",
              "        text-align: right;\n",
              "    }\n",
              "</style>\n",
              "<table border=\"1\" class=\"dataframe\">\n",
              "  <thead>\n",
              "    <tr style=\"text-align: right;\">\n",
              "      <th></th>\n",
              "      <th>Name</th>\n",
              "      <th>Workday</th>\n",
              "      <th>Shift</th>\n",
              "      <th>Workday_Fri</th>\n",
              "      <th>Workday_Sat</th>\n",
              "      <th>Workday_Thu</th>\n",
              "    </tr>\n",
              "  </thead>\n",
              "  <tbody>\n",
              "    <tr>\n",
              "      <th>0</th>\n",
              "      <td>Nhan</td>\n",
              "      <td>Thu</td>\n",
              "      <td>Morning</td>\n",
              "      <td>0</td>\n",
              "      <td>0</td>\n",
              "      <td>1</td>\n",
              "    </tr>\n",
              "    <tr>\n",
              "      <th>1</th>\n",
              "      <td>Trang</td>\n",
              "      <td>Fri</td>\n",
              "      <td>Night</td>\n",
              "      <td>1</td>\n",
              "      <td>0</td>\n",
              "      <td>0</td>\n",
              "    </tr>\n",
              "    <tr>\n",
              "      <th>2</th>\n",
              "      <td>Minh</td>\n",
              "      <td>Sat</td>\n",
              "      <td>Night</td>\n",
              "      <td>0</td>\n",
              "      <td>1</td>\n",
              "      <td>0</td>\n",
              "    </tr>\n",
              "    <tr>\n",
              "      <th>3</th>\n",
              "      <td>Quan</td>\n",
              "      <td>Fri</td>\n",
              "      <td>Morning</td>\n",
              "      <td>1</td>\n",
              "      <td>0</td>\n",
              "      <td>0</td>\n",
              "    </tr>\n",
              "    <tr>\n",
              "      <th>4</th>\n",
              "      <td>Ai</td>\n",
              "      <td>Fri</td>\n",
              "      <td>Night</td>\n",
              "      <td>1</td>\n",
              "      <td>0</td>\n",
              "      <td>0</td>\n",
              "    </tr>\n",
              "  </tbody>\n",
              "</table>\n",
              "</div>"
            ],
            "text/plain": [
              "    Name Workday    Shift  Workday_Fri  Workday_Sat  Workday_Thu\n",
              "0   Nhan     Thu  Morning            0            0            1\n",
              "1  Trang     Fri    Night            1            0            0\n",
              "2   Minh     Sat    Night            0            1            0\n",
              "3   Quan     Fri  Morning            1            0            0\n",
              "4     Ai     Fri    Night            1            0            0"
            ]
          },
          "metadata": {
            "tags": []
          },
          "execution_count": 39
        }
      ]
    },
    {
      "cell_type": "code",
      "metadata": {
        "colab": {
          "base_uri": "https://localhost:8080/",
          "height": 205
        },
        "id": "VMkWwHzjAr9R",
        "outputId": "5c4f6e14-43a2-459d-ec7a-d136d3075e56"
      },
      "source": [
        "concat_df[['Name','Workday_Fri']]"
      ],
      "execution_count": null,
      "outputs": [
        {
          "output_type": "execute_result",
          "data": {
            "text/html": [
              "<div>\n",
              "<style scoped>\n",
              "    .dataframe tbody tr th:only-of-type {\n",
              "        vertical-align: middle;\n",
              "    }\n",
              "\n",
              "    .dataframe tbody tr th {\n",
              "        vertical-align: top;\n",
              "    }\n",
              "\n",
              "    .dataframe thead th {\n",
              "        text-align: right;\n",
              "    }\n",
              "</style>\n",
              "<table border=\"1\" class=\"dataframe\">\n",
              "  <thead>\n",
              "    <tr style=\"text-align: right;\">\n",
              "      <th></th>\n",
              "      <th>Name</th>\n",
              "      <th>Workday_Fri</th>\n",
              "    </tr>\n",
              "  </thead>\n",
              "  <tbody>\n",
              "    <tr>\n",
              "      <th>0</th>\n",
              "      <td>Nhan</td>\n",
              "      <td>0</td>\n",
              "    </tr>\n",
              "    <tr>\n",
              "      <th>1</th>\n",
              "      <td>Trang</td>\n",
              "      <td>1</td>\n",
              "    </tr>\n",
              "    <tr>\n",
              "      <th>2</th>\n",
              "      <td>Minh</td>\n",
              "      <td>0</td>\n",
              "    </tr>\n",
              "    <tr>\n",
              "      <th>3</th>\n",
              "      <td>Quan</td>\n",
              "      <td>1</td>\n",
              "    </tr>\n",
              "    <tr>\n",
              "      <th>4</th>\n",
              "      <td>Ai</td>\n",
              "      <td>1</td>\n",
              "    </tr>\n",
              "  </tbody>\n",
              "</table>\n",
              "</div>"
            ],
            "text/plain": [
              "    Name  Workday_Fri\n",
              "0   Nhan            0\n",
              "1  Trang            1\n",
              "2   Minh            0\n",
              "3   Quan            1\n",
              "4     Ai            1"
            ]
          },
          "metadata": {
            "tags": []
          },
          "execution_count": 40
        }
      ]
    },
    {
      "cell_type": "code",
      "metadata": {
        "id": "t8-5M4bgAZJe"
      },
      "source": [
        ""
      ],
      "execution_count": null,
      "outputs": []
    },
    {
      "cell_type": "code",
      "metadata": {
        "id": "WtQNkd-zBADs"
      },
      "source": [
        "schedule_df.drop('Sat',axis=1,inplace=True)"
      ],
      "execution_count": null,
      "outputs": []
    },
    {
      "cell_type": "code",
      "metadata": {
        "colab": {
          "base_uri": "https://localhost:8080/",
          "height": 205
        },
        "id": "IkkL553dBFCu",
        "outputId": "a7465c1c-d048-48d4-813a-338c6f93f199"
      },
      "source": [
        "schedule_df"
      ],
      "execution_count": null,
      "outputs": [
        {
          "output_type": "execute_result",
          "data": {
            "text/html": [
              "<div>\n",
              "<style scoped>\n",
              "    .dataframe tbody tr th:only-of-type {\n",
              "        vertical-align: middle;\n",
              "    }\n",
              "\n",
              "    .dataframe tbody tr th {\n",
              "        vertical-align: top;\n",
              "    }\n",
              "\n",
              "    .dataframe thead th {\n",
              "        text-align: right;\n",
              "    }\n",
              "</style>\n",
              "<table border=\"1\" class=\"dataframe\">\n",
              "  <thead>\n",
              "    <tr style=\"text-align: right;\">\n",
              "      <th></th>\n",
              "      <th>Name</th>\n",
              "      <th>Workday</th>\n",
              "      <th>Shift</th>\n",
              "    </tr>\n",
              "  </thead>\n",
              "  <tbody>\n",
              "    <tr>\n",
              "      <th>0</th>\n",
              "      <td>Nhan</td>\n",
              "      <td>Thu</td>\n",
              "      <td>Morning</td>\n",
              "    </tr>\n",
              "    <tr>\n",
              "      <th>1</th>\n",
              "      <td>Trang</td>\n",
              "      <td>Fri</td>\n",
              "      <td>Night</td>\n",
              "    </tr>\n",
              "    <tr>\n",
              "      <th>2</th>\n",
              "      <td>Minh</td>\n",
              "      <td>Sat</td>\n",
              "      <td>Night</td>\n",
              "    </tr>\n",
              "    <tr>\n",
              "      <th>3</th>\n",
              "      <td>Quan</td>\n",
              "      <td>Fri</td>\n",
              "      <td>Morning</td>\n",
              "    </tr>\n",
              "    <tr>\n",
              "      <th>4</th>\n",
              "      <td>Ai</td>\n",
              "      <td>Fri</td>\n",
              "      <td>Night</td>\n",
              "    </tr>\n",
              "  </tbody>\n",
              "</table>\n",
              "</div>"
            ],
            "text/plain": [
              "    Name Workday    Shift\n",
              "0   Nhan     Thu  Morning\n",
              "1  Trang     Fri    Night\n",
              "2   Minh     Sat    Night\n",
              "3   Quan     Fri  Morning\n",
              "4     Ai     Fri    Night"
            ]
          },
          "metadata": {
            "tags": []
          },
          "execution_count": 45
        }
      ]
    },
    {
      "cell_type": "code",
      "metadata": {
        "id": "fIJir9pHUSYl",
        "colab": {
          "base_uri": "https://localhost:8080/",
          "height": 205
        },
        "outputId": "94655c71-782b-4edb-d026-afe7bd1937c5"
      },
      "source": [
        "# Create new column in schedule_df\n",
        "\n",
        "schedule_df['Sat'] = dummies['Workday_Sat']\n",
        "schedule_df"
      ],
      "execution_count": null,
      "outputs": [
        {
          "output_type": "execute_result",
          "data": {
            "text/html": [
              "<div>\n",
              "<style scoped>\n",
              "    .dataframe tbody tr th:only-of-type {\n",
              "        vertical-align: middle;\n",
              "    }\n",
              "\n",
              "    .dataframe tbody tr th {\n",
              "        vertical-align: top;\n",
              "    }\n",
              "\n",
              "    .dataframe thead th {\n",
              "        text-align: right;\n",
              "    }\n",
              "</style>\n",
              "<table border=\"1\" class=\"dataframe\">\n",
              "  <thead>\n",
              "    <tr style=\"text-align: right;\">\n",
              "      <th></th>\n",
              "      <th>Name</th>\n",
              "      <th>Workday</th>\n",
              "      <th>Shift</th>\n",
              "      <th>Sat</th>\n",
              "    </tr>\n",
              "  </thead>\n",
              "  <tbody>\n",
              "    <tr>\n",
              "      <th>0</th>\n",
              "      <td>Nhan</td>\n",
              "      <td>Thu</td>\n",
              "      <td>Morning</td>\n",
              "      <td>0</td>\n",
              "    </tr>\n",
              "    <tr>\n",
              "      <th>1</th>\n",
              "      <td>Trang</td>\n",
              "      <td>Fri</td>\n",
              "      <td>Night</td>\n",
              "      <td>0</td>\n",
              "    </tr>\n",
              "    <tr>\n",
              "      <th>2</th>\n",
              "      <td>Minh</td>\n",
              "      <td>Sat</td>\n",
              "      <td>Night</td>\n",
              "      <td>1</td>\n",
              "    </tr>\n",
              "    <tr>\n",
              "      <th>3</th>\n",
              "      <td>Quan</td>\n",
              "      <td>Fri</td>\n",
              "      <td>Morning</td>\n",
              "      <td>0</td>\n",
              "    </tr>\n",
              "    <tr>\n",
              "      <th>4</th>\n",
              "      <td>Ai</td>\n",
              "      <td>Fri</td>\n",
              "      <td>Night</td>\n",
              "      <td>0</td>\n",
              "    </tr>\n",
              "  </tbody>\n",
              "</table>\n",
              "</div>"
            ],
            "text/plain": [
              "    Name Workday    Shift  Sat\n",
              "0   Nhan     Thu  Morning    0\n",
              "1  Trang     Fri    Night    0\n",
              "2   Minh     Sat    Night    1\n",
              "3   Quan     Fri  Morning    0\n",
              "4     Ai     Fri    Night    0"
            ]
          },
          "metadata": {
            "tags": []
          },
          "execution_count": 46
        }
      ]
    }
  ]
}